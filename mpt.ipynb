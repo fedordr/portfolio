{
 "cells": [
  {
   "cell_type": "markdown",
   "id": "72e55bee",
   "metadata": {},
   "source": [
    "# Портфельная теория Марковица\n",
    "\n",
    "Портфельная теория Марковица(далее ПТМ) (Modern portfolio theory) — разработанная Гарри Марковицем методика формирования инвестиционного портфеля, направленная на оптимальный выбор активов, исходя из требуемого соотношения доходность/риск. Сформулированные им в 1950-х годах идеи составляют основу современной портфельной теории.\n",
    "\n",
    "Основные положения портфельной теории были сформулированы Гарри Марковицем при подготовке им докторской диссертации в 1950—1951 годах.\n",
    "Рождением же портфельной теории Марковица считается опубликованная в «Финансовом журнале» в 1952 году статья «Выбор портфеля». В ней он впервые предложил математическую модель формирования оптимального портфеля и привёл методы построения портфелей при определённых условиях. Основная заслуга Марковица состояла в предложении вероятностной формализации понятий «доходность» и «риск», что позволило перевести задачу выбора оптимального портфеля на формальный математический язык. Надо отметить, что в годы создания теории Марковиц работал в RAND Corp., вместе с одним из основателей линейной и нелинейной оптимизации — Джорджем Данцигом и сам участвовал в решении указанных задач. Поэтому собственная теория, после необходимой формализации, хорошо ложилась в указанное русло.\n",
    "Марковиц постоянно занимается усовершенствованием своей теории и в 1959 году выпускает первую посвящённую ей монографию «Выбор портфеля: эффективная диверсификация инвестиций»."
   ]
  },
  {
   "cell_type": "markdown",
   "id": "c6bcefdc",
   "metadata": {},
   "source": [
    "### Основа модели\n",
    "1. Ожидаемая доходность портфеля(Portfolio Expected Return)\n",
    "\n",
    "Ожидаемая доходность портфеля будет зависеть от ожидаемой доходности каждого из активов, входящих в него. Такой подход позволяет снизить риск за счет диверсификации и одновременно максимизировать доход инвестора, поскольку убытки по одним инвестициям будут компенсированы доходом по другим.\n",
    "\n",
    "Ожидаемая доходность портфеля представляет собой суммарную ожидаемую доходность входящих в него ценных бумаг, взвешенную с учетом их доли в портфеле.\n",
    "\n",
    "\n",
    "$$ E(R_p)  = \\sum_{i=1}^{n}\\, \\omega_i E(R_i) $$"
   ]
  },
  {
   "cell_type": "markdown",
   "id": "30f9c7f6",
   "metadata": {},
   "source": [
    "2. Дисперсия портфеля (Portfolio Variance)\n",
    "\n",
    "Дисперсия портфеля — это процесс, который определяет степень риска или волатильности, связанной с инвестиционным портфелем. Основная формула для расчета этой дисперсии фокусируется на взаимосвязи между так называемой дисперсией доходности и ковариацией, связанной с каждой из ценных бумаг, найденных в портфеле, а также с процентом или частью портфеля, который представляет каждая ценная бумага.\n",
    "\n",
    "\n",
    "$$ \\sigma_p^2  = \\sum_i \\omega_i^2 \\sigma_i^2 + \\sum_i\\sum_{j\\neq i} \\omega_i \\omega_j \\sigma_i \\sigma_j \\rho_{ij} $$"
   ]
  },
  {
   "cell_type": "markdown",
   "id": "99453a0f",
   "metadata": {},
   "source": [
    "3. Коэффициент Шарпа (Sharpe Ratio)\n",
    "$$ \\frac{R_p-R_f}{\\sigma_p}$$"
   ]
  },
  {
   "cell_type": "markdown",
   "id": "6437f2a8",
   "metadata": {},
   "source": [
    "4. Эффективная граница (The Efficient Frontier)\n",
    "\n",
    "Определение и рисунок из [Википедии](https://ru.wikipedia.org/wiki/%D0%93%D1%80%D0%B0%D0%BD%D0%B8%D1%86%D0%B0_%D1%8D%D1%84%D1%84%D0%B5%D0%BA%D1%82%D0%B8%D0%B2%D0%BD%D0%BE%D1%81%D1%82%D0%B8):\n",
    "![gg](https://habrastorage.org/r/w1560/getpro/habr/upload_files/195/878/ebe/195878ebe0ce9d7f1b48e77c960f2759.png)\n",
    "\n",
    "Граница эффективности (англ. Efficient frontier) в портфельной теории Марковица — инвестиционный портфель, оптимизированный в отношении риска и доходности. Формально границей эффективности является набор портфелей, удовлетворяющих такому условию, что не существует другого портфеля с более высокой ожидаемой доходностью, но с таким же стандартным отклонением доходности. Понятие границы эффективности было впервые сформулировано Гарри Марковицем в 1952 году в модели Марковица.\n",
    "\n",
    "Портфель может быть охарактеризован как «эффективный», если он имеет максимально возможный ожидаемый уровень доходности для своего уровня риска (который представлен стандартным отклонением доходности портфеля). Так, на график соотношения риска и доходности может быть нанесена любая возможная комбинация рискованных активов, и совокупность всех таких возможных портфелей определяет регион в этом пространстве. При отсутствии в портфеле безрискового актива граница эффективности определяется верхней (восходящей) частью гиперболы, ограничивающей область допустимых решений для всех соотношений активов в портфеле.\n",
    "\n",
    "В случае же, если в портфель может быть включён безрисковый актив, граница эффективности вырождается в отрезок прямой линии, исходящий от значения доходности безрискового актива на оси ординат (ожидаемая доходность портфеля) и проходящий по касательной к границе области допустимых решений. Все портфели на отрезке между собственно безрисковым активом и точкой касания состоят из комбинации безрискового актива и рисковых активов, в то время как все портфели на линии выше и справа от точки касания образуются короткой позицией в безрисковом активе и инвестированием в рисковые активы."
   ]
  },
  {
   "cell_type": "markdown",
   "id": "aded814f",
   "metadata": {},
   "source": [
    "### Оптимизация портфеля на Python\n",
    "Импорт необходимых библиотек\n",
    "\n",
    "Как обычно в начале импортируем все необходимые библиотеки для дальнейшей работы:"
   ]
  },
  {
   "cell_type": "code",
   "execution_count": 1,
   "id": "69e691ac",
   "metadata": {},
   "outputs": [],
   "source": [
    "import matplotlib.pyplot as plt\n",
    "import numpy as np\n",
    "import pandas as pd\n",
    "import pandas_datareader as web\n",
    "from matplotlib.ticker import FuncFormatter"
   ]
  },
  {
   "cell_type": "markdown",
   "id": "a3c0f49f",
   "metadata": {},
   "source": [
    "Непосредственно для анализа и оптимизации портфеля существует библиотека PyPortfolioOpt. Так как она не входит в стандартный набор, то ее необходимо установить."
   ]
  },
  {
   "cell_type": "code",
   "execution_count": null,
   "id": "2197a8ac",
   "metadata": {},
   "outputs": [],
   "source": [
    "!pip install PyPortfolioOpt"
   ]
  },
  {
   "cell_type": "markdown",
   "id": "eeb24deb",
   "metadata": {},
   "source": [
    "Импортируем функции для дальнейшей работы:"
   ]
  },
  {
   "cell_type": "code",
   "execution_count": 2,
   "id": "acc3d6b6",
   "metadata": {},
   "outputs": [],
   "source": [
    "from pypfopt.efficient_frontier import EfficientFrontier \n",
    "from pypfopt import risk_models \n",
    "from pypfopt import expected_returns\n",
    "from pypfopt.cla import CLA\n",
    "import pypfopt.plotting as pplt\n",
    "from matplotlib.ticker import FuncFormatter"
   ]
  },
  {
   "cell_type": "markdown",
   "id": "b82f4f3d",
   "metadata": {},
   "source": [
    "Получение данных по акциям из интернета\n",
    "\n",
    "Сначала установим опять пакет, который не входит в стандартный набор. Он позволяет получить данные по акциям с сайта yahoo.\n",
    "\n",
    "Тикеры, которые будут использоваться для анализа — одна из компаний входящих в лидеры в своем секторе."
   ]
  },
  {
   "cell_type": "code",
   "execution_count": null,
   "id": "94cf80ac",
   "metadata": {},
   "outputs": [],
   "source": [
    "!pip install yfinance --upgrade --no-cache-dir"
   ]
  },
  {
   "cell_type": "code",
   "execution_count": 3,
   "id": "458a122e",
   "metadata": {},
   "outputs": [
    {
     "name": "stdout",
     "output_type": "stream",
     "text": [
      "[*********************100%***********************]  8 of 8 completed\n"
     ]
    },
    {
     "data": {
      "text/html": [
       "<div>\n",
       "<style scoped>\n",
       "    .dataframe tbody tr th:only-of-type {\n",
       "        vertical-align: middle;\n",
       "    }\n",
       "\n",
       "    .dataframe tbody tr th {\n",
       "        vertical-align: top;\n",
       "    }\n",
       "\n",
       "    .dataframe thead th {\n",
       "        text-align: right;\n",
       "    }\n",
       "</style>\n",
       "<table border=\"1\" class=\"dataframe\">\n",
       "  <thead>\n",
       "    <tr style=\"text-align: right;\">\n",
       "      <th></th>\n",
       "      <th>AFLT.ME</th>\n",
       "      <th>DSKY.ME</th>\n",
       "      <th>GMKN.ME</th>\n",
       "      <th>IRAO.ME</th>\n",
       "      <th>LKOH.ME</th>\n",
       "      <th>MTSS.ME</th>\n",
       "      <th>NKNC.ME</th>\n",
       "      <th>SBER.ME</th>\n",
       "    </tr>\n",
       "    <tr>\n",
       "      <th>Date</th>\n",
       "      <th></th>\n",
       "      <th></th>\n",
       "      <th></th>\n",
       "      <th></th>\n",
       "      <th></th>\n",
       "      <th></th>\n",
       "      <th></th>\n",
       "      <th></th>\n",
       "    </tr>\n",
       "  </thead>\n",
       "  <tbody>\n",
       "    <tr>\n",
       "      <th>2018-01-03</th>\n",
       "      <td>127.199066</td>\n",
       "      <td>67.356140</td>\n",
       "      <td>7939.950195</td>\n",
       "      <td>2.919480</td>\n",
       "      <td>2757.198730</td>\n",
       "      <td>182.968369</td>\n",
       "      <td>33.301483</td>\n",
       "      <td>145.441605</td>\n",
       "    </tr>\n",
       "    <tr>\n",
       "      <th>2018-01-04</th>\n",
       "      <td>134.899857</td>\n",
       "      <td>68.742058</td>\n",
       "      <td>8138.763672</td>\n",
       "      <td>3.070057</td>\n",
       "      <td>2821.263428</td>\n",
       "      <td>187.351685</td>\n",
       "      <td>33.173889</td>\n",
       "      <td>149.769119</td>\n",
       "    </tr>\n",
       "    <tr>\n",
       "      <th>2018-01-05</th>\n",
       "      <td>133.450317</td>\n",
       "      <td>68.742058</td>\n",
       "      <td>8124.713867</td>\n",
       "      <td>3.049406</td>\n",
       "      <td>2876.463623</td>\n",
       "      <td>186.853561</td>\n",
       "      <td>33.237682</td>\n",
       "      <td>149.643677</td>\n",
       "    </tr>\n",
       "    <tr>\n",
       "      <th>2018-01-09</th>\n",
       "      <td>136.349426</td>\n",
       "      <td>68.256989</td>\n",
       "      <td>8201.991211</td>\n",
       "      <td>2.995198</td>\n",
       "      <td>2924.008545</td>\n",
       "      <td>187.982574</td>\n",
       "      <td>33.556660</td>\n",
       "      <td>150.772598</td>\n",
       "    </tr>\n",
       "    <tr>\n",
       "      <th>2018-01-10</th>\n",
       "      <td>135.262268</td>\n",
       "      <td>68.776711</td>\n",
       "      <td>8187.941895</td>\n",
       "      <td>2.979711</td>\n",
       "      <td>2934.082031</td>\n",
       "      <td>188.912369</td>\n",
       "      <td>33.811848</td>\n",
       "      <td>149.116821</td>\n",
       "    </tr>\n",
       "  </tbody>\n",
       "</table>\n",
       "</div>"
      ],
      "text/plain": [
       "               AFLT.ME    DSKY.ME      GMKN.ME   IRAO.ME      LKOH.ME  \\\n",
       "Date                                                                    \n",
       "2018-01-03  127.199066  67.356140  7939.950195  2.919480  2757.198730   \n",
       "2018-01-04  134.899857  68.742058  8138.763672  3.070057  2821.263428   \n",
       "2018-01-05  133.450317  68.742058  8124.713867  3.049406  2876.463623   \n",
       "2018-01-09  136.349426  68.256989  8201.991211  2.995198  2924.008545   \n",
       "2018-01-10  135.262268  68.776711  8187.941895  2.979711  2934.082031   \n",
       "\n",
       "               MTSS.ME    NKNC.ME     SBER.ME  \n",
       "Date                                           \n",
       "2018-01-03  182.968369  33.301483  145.441605  \n",
       "2018-01-04  187.351685  33.173889  149.769119  \n",
       "2018-01-05  186.853561  33.237682  149.643677  \n",
       "2018-01-09  187.982574  33.556660  150.772598  \n",
       "2018-01-10  188.912369  33.811848  149.116821  "
      ]
     },
     "execution_count": 3,
     "metadata": {},
     "output_type": "execute_result"
    }
   ],
   "source": [
    "import yfinance as yf\n",
    "tickers = ['LKOH.ME','GMKN.ME', 'DSKY.ME', 'NKNC.ME', 'MTSS.ME', 'IRAO.ME', 'SBER.ME', 'AFLT.ME']\n",
    "df_stocks= yf.download(tickers, start='2018-01-01', end='2020-12-31')['Adj Close']\n",
    "\n",
    "df_stocks.head()"
   ]
  },
  {
   "cell_type": "markdown",
   "id": "cdfb148e",
   "metadata": {},
   "source": [
    "Дальше необходимо проверить есть ли среди полученных значений NaN. В случае их наличия они будут мешать дальнейшему исследованию. Для того, чтобы это решить, необходимо рассмотреть или иную акцию, или заменить их для примера средней ценой между днем до и после значения NaN."
   ]
  },
  {
   "cell_type": "code",
   "execution_count": 4,
   "id": "aaa51ac9",
   "metadata": {},
   "outputs": [
    {
     "name": "stdout",
     "output_type": "stream",
     "text": [
      "LKOH.ME    0\n",
      "GMKN.ME    0\n",
      "DSKY.ME    0\n",
      "NKNC.ME    1\n",
      "MTSS.ME    1\n",
      "IRAO.ME    0\n",
      "SBER.ME    0\n",
      "AFLT.ME    0\n",
      "dtype: int64\n"
     ]
    }
   ],
   "source": [
    "nullin_df = pd.DataFrame(df_stocks,columns=tickers)\n",
    "print(nullin_df.isnull().sum())"
   ]
  },
  {
   "cell_type": "markdown",
   "id": "a9e7106f",
   "metadata": {},
   "source": [
    "#### Расчеты\n",
    "\n",
    "Перейдем к расчетам по оптимизации портфеля и начнем с определения ожидаемой доходности и дисперсии портфеля. Далее сохраним значения весов портфеля с максимальным коэффициентом Шарпа и минимальной дисперсией."
   ]
  },
  {
   "cell_type": "code",
   "execution_count": 5,
   "id": "3843e191",
   "metadata": {},
   "outputs": [
    {
     "name": "stdout",
     "output_type": "stream",
     "text": [
      "OrderedDict([('AFLT.ME', 0.0), ('DSKY.ME', 0.22605), ('GMKN.ME', 0.48798), ('IRAO.ME', 0.0), ('LKOH.ME', 0.0), ('MTSS.ME', 0.02951), ('NKNC.ME', 0.25646), ('SBER.ME', 0.0)])\n"
     ]
    }
   ],
   "source": [
    "#Годовая доходность\n",
    "mu = expected_returns.mean_historical_return(df_stocks) \n",
    "#Дисперсия портфеля\n",
    "Sigma = risk_models.sample_cov(df_stocks)\n",
    "#Максимальный коэффициент Шарпа\n",
    "ef = EfficientFrontier(mu, Sigma, weight_bounds=(0,1)) #weight bounds in negative allows shorting of stocks\n",
    "sharpe_pfolio=ef.max_sharpe() #May use add objective to ensure minimum zero weighting to individual stocks\n",
    "sharpe_pwt=ef.clean_weights()\n",
    "print(sharpe_pwt)"
   ]
  },
  {
   "cell_type": "markdown",
   "id": "2d729af6",
   "metadata": {},
   "source": [
    "Необходимо обратить внимание, что если изменить weight_bounds=(0,1) на weight_bounds=(-1,1), то в портфеле будут учитываться и короткие позиции по акциям.\n",
    "\n",
    "Дальше посмотрим общие характеристики по портфелю."
   ]
  },
  {
   "cell_type": "code",
   "execution_count": 6,
   "id": "f72e926b",
   "metadata": {},
   "outputs": [
    {
     "name": "stdout",
     "output_type": "stream",
     "text": [
      "Expected annual return: 37.2%\n",
      "Annual volatility: 20.7%\n",
      "Sharpe Ratio: 1.70\n"
     ]
    },
    {
     "data": {
      "text/plain": [
       "(0.3718158381777634, 0.20731147650585352, 1.6970398557159942)"
      ]
     },
     "execution_count": 6,
     "metadata": {},
     "output_type": "execute_result"
    }
   ],
   "source": [
    "ef.portfolio_performance(verbose=True)"
   ]
  },
  {
   "cell_type": "markdown",
   "id": "c01c07e3",
   "metadata": {},
   "source": [
    "Теперь посмотрим портфель, который показывает минимальную волатильность:"
   ]
  },
  {
   "cell_type": "code",
   "execution_count": 7,
   "id": "ee7f8cee",
   "metadata": {},
   "outputs": [
    {
     "name": "stdout",
     "output_type": "stream",
     "text": [
      "OrderedDict([('AFLT.ME', 0.02875), ('DSKY.ME', 0.24503), ('GMKN.ME', 0.10404), ('IRAO.ME', 0.0938), ('LKOH.ME', 0.01168), ('MTSS.ME', 0.41966), ('NKNC.ME', 0.09704), ('SBER.ME', 0.0)])\n"
     ]
    }
   ],
   "source": [
    "ef1 = EfficientFrontier(mu, Sigma, weight_bounds=(0,1)) \n",
    "minvol=ef1.min_volatility()\n",
    "minvol_pwt=ef1.clean_weights()\n",
    "print(minvol_pwt)"
   ]
  },
  {
   "cell_type": "code",
   "execution_count": 8,
   "id": "59d980f1",
   "metadata": {},
   "outputs": [
    {
     "name": "stdout",
     "output_type": "stream",
     "text": [
      "Expected annual return: 24.0%\n",
      "Annual volatility: 16.9%\n",
      "Sharpe Ratio: -0.18\n"
     ]
    },
    {
     "data": {
      "text/plain": [
       "(0.2402813443429478, 0.16896905141100071, -0.17588224239221478)"
      ]
     },
     "execution_count": 8,
     "metadata": {},
     "output_type": "execute_result"
    }
   ],
   "source": [
    "ef1.portfolio_performance(verbose=True, risk_free_rate = 0.27)"
   ]
  },
  {
   "cell_type": "markdown",
   "id": "6f1c7eb3",
   "metadata": {},
   "source": [
    "Построение графика эффективных границ\n",
    "\n",
    "Заключительным шагом является построение эффективной границы для визуального представления и расчет распределения активов.\n",
    "\n",
    "Анализ произведем для суммы в 100 000 рублей."
   ]
  },
  {
   "cell_type": "code",
   "execution_count": 9,
   "id": "698c1534",
   "metadata": {},
   "outputs": [
    {
     "data": {
      "image/png": "[encoded data removed]",
      "text/plain": [
       "<Figure size 432x288 with 1 Axes>"
      ]
     },
     "metadata": {
      "needs_background": "light"
     },
     "output_type": "display_data"
    }
   ],
   "source": [
    "cl_obj = CLA(mu, Sigma)\n",
    "ax = pplt.plot_efficient_frontier(cl_obj, showfig = False)\n",
    "ax.xaxis.set_major_formatter(FuncFormatter(lambda x, _: '{:.0%}'.format(x)))\n",
    "ax.yaxis.set_major_formatter(FuncFormatter(lambda y, _: '{:.0%}'.format(y)))"
   ]
  },
  {
   "cell_type": "markdown",
   "id": "98f01a64",
   "metadata": {},
   "source": [
    "Первым этапом посчитаем портфель с минимальной волатильностью:"
   ]
  },
  {
   "cell_type": "code",
   "execution_count": 10,
   "id": "d0334973",
   "metadata": {},
   "outputs": [],
   "source": [
    "from pypfopt.discrete_allocation import DiscreteAllocation, get_latest_prices"
   ]
  },
  {
   "cell_type": "code",
   "execution_count": 11,
   "id": "34bad5df",
   "metadata": {},
   "outputs": [
    {
     "name": "stdout",
     "output_type": "stream",
     "text": [
      "{'AFLT.ME': 41, 'DSKY.ME': 189, 'IRAO.ME': 1830, 'LKOH.ME': 1, 'MTSS.ME': 137, 'NKNC.ME': 107}\n",
      "Осталось денежных средств после построения портфеля с минимальной волатильностью - 6382.97 рублей\n",
      "\n"
     ]
    }
   ],
   "source": [
    "latest_prices = get_latest_prices(df_stocks)\n",
    "da = DiscreteAllocation(minvol_pwt, latest_prices, total_portfolio_value=100000)\n",
    "allocation_minv, rem_minv = da.lp_portfolio()\n",
    "print(allocation_minv)\n",
    "print(\"Осталось денежных средств после построения портфеля с минимальной волатильностью - {:.2f} рублей\".format(rem_minv))\n",
    "print()"
   ]
  },
  {
   "cell_type": "code",
   "execution_count": 12,
   "id": "1269fc81",
   "metadata": {},
   "outputs": [
    {
     "name": "stdout",
     "output_type": "stream",
     "text": [
      "{'DSKY.ME': 174, 'GMKN.ME': 2, 'MTSS.ME': 10, 'NKNC.ME': 283}\n",
      "Осталось денежных средств после построения портфеля с максимальным коэффициентом Шарпа 3014.65 рублей\n"
     ]
    }
   ],
   "source": [
    "latest_prices1 = get_latest_prices(df_stocks)\n",
    "allocation_shp, rem_shp = DiscreteAllocation(sharpe_pwt, latest_prices1, total_portfolio_value=100000).lp_portfolio() \n",
    "print(allocation_shp)\n",
    "print(\"Осталось денежных средств после построения портфеля с максимальным коэффициентом Шарпа {:.2f} рублей\".format(rem_shp))"
   ]
  }
 ],
 "metadata": {
  "kernelspec": {
   "display_name": "Python 3",
   "language": "python",
   "name": "python3"
  },
  "language_info": {
   "codemirror_mode": {
    "name": "ipython",
    "version": 3
   },
   "file_extension": ".py",
   "mimetype": "text/x-python",
   "name": "python",
   "nbconvert_exporter": "python",
   "pygments_lexer": "ipython3",
   "version": "3.8.8"
  }
 },
 "nbformat": 4,
 "nbformat_minor": 5
}
